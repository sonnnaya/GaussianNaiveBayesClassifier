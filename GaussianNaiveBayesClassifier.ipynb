{
  "nbformat": 4,
  "nbformat_minor": 0,
  "metadata": {
    "colab": {
      "name": "GaussianNaiveBayesClassifier.ipynb",
      "provenance": [],
      "collapsed_sections": [],
      "authorship_tag": "ABX9TyOCdwVTEPPDqq1nmUSUY5yc",
      "include_colab_link": true
    },
    "kernelspec": {
      "name": "python3",
      "display_name": "Python 3"
    }
  },
  "cells": [
    {
      "cell_type": "markdown",
      "metadata": {
        "id": "view-in-github",
        "colab_type": "text"
      },
      "source": [
        "<a href=\"https://colab.research.google.com/github/sonnnaya/GaussianNaiveBayesClassifier/blob/main/GaussianNaiveBayesClassifier.ipynb\" target=\"_parent\"><img src=\"https://colab.research.google.com/assets/colab-badge.svg\" alt=\"Open In Colab\"/></a>"
      ]
    },
    {
      "cell_type": "markdown",
      "metadata": {
        "id": "VAC6tZO4SmKd"
      },
      "source": [
        "# Gaussian Naive Bayes Classifier\r\n",
        "## Classification introduction\r\n",
        "The classification problem has the following wording:\r\n",
        "* Given a certain set of objects divided into predefined classes - such set is called a training sample.\r\n",
        "* There are many objects whose membership in certain classes is unknown.\r\n",
        "\r\n",
        "It is necessary to define a classification rule, according to which we will be able to classify indeterminate images into classes formed by the training sample.\r\n",
        "\r\n",
        "*Check out [Classification by using decisive functions and diving hypersurfaces](https://github.com/sonnnaya/DecisiveAndDividingFunctions/blob/main/DecisiveAndDividingFunctions.ipynb) for more info about such rules of classification.*\r\n",
        "\r\n",
        "---\r\n",
        "\r\n",
        "\r\n",
        "Let be given classes: \r\n",
        "$$\r\n",
        "w_{1},w_{2},...,w_{M}\r\n",
        "$$ \r\n",
        "each of which contains $N_{i}\\ (i=\\overline{1,M})$ number of images respectively: \r\n",
        "$$\r\n",
        "\\{\\overline{x}_{1}, \\overline{x}_{2},...,\\overline{x}_{N_{i}}\\},\r\n",
        "$$\r\n",
        "where image is a n-dimensional vector of its attributes:\r\n",
        "$$\r\n",
        "\\overline{x}=[x_{1},x_{2},...,x_{n}]^{T}\r\n",
        "$$\r\n"
      ]
    },
    {
      "cell_type": "code",
      "metadata": {
        "id": "rG2mvncwL8y5"
      },
      "source": [
        "import numpy as np\r\n",
        "from typing import List\r\n",
        "\r\n",
        "\r\n",
        "class Cluster:\r\n",
        "    def __init__(self, images: List[np.ndarray]):\r\n",
        "        self.images: List[np.ndarray] = images\r\n",
        "\r\n",
        "    def add(self, image: np.ndarray) -> None:\r\n",
        "        self.images.append(np.array(image))\r\n"
      ],
      "execution_count": 1,
      "outputs": []
    },
    {
      "cell_type": "markdown",
      "metadata": {
        "id": "uwki1Qi9bdH-"
      },
      "source": [
        "## Bayes Classifier\r\n",
        "The Bayesian classification is based on the maximum probability hypothesis:\r\n",
        "\r\n",
        "An image $\\overline{x}$ belongs to the class $w_{i}$ if the probability that this image belongs to the class $P(w_{i}|\\overline{x})$ is the greatest among all probabilities $P(w_{1}|\\overline{x}),P(w_{2}|\\overline{x}),...,P(w_{M}|\\overline{x})$.\r\n",
        "\r\n",
        "That is, we need to find the largest posterior probability:\r\n",
        "$$\r\n",
        "max(P(w_{1}|\\overline{x}),P(w_{2}|\\overline{x}),...,P(w_{M}|\\overline{x}))\r\n",
        "$$\r\n",
        "Using the Bayesian theorem, we can rewrite the expression as:\r\n",
        "$$\r\n",
        "P(w_{i}|\\overline{x}) = \\frac{P(w_{i})P(\\overline{x}|w_{i})}{P(\\overline{x})},\r\n",
        "$$\r\n",
        "where:\r\n",
        "\r\n",
        "$P(w_{i}|\\overline{x})\\ -$ the probability that $\\overline{x}$ belongs to class $w_{i}$ (posterior probability)\r\n",
        "\r\n",
        "$P(w_{i})\\ -$ the probability of getting into class $w_{i}$ (prior probability)\r\n",
        "\r\n",
        "$P(\\overline{x}|w_{i})\\ -$ the probability of appearance of image $\\overline{x}$ in class $w_{i}$ (likelihood function)\r\n",
        "\r\n",
        "$P(\\overline{x})\\ -$ total probability of appearance of the $\\overline{x}$ image\r\n",
        "\r\n",
        "\r\n",
        "> Note that all subsequent equations of a posteriori probability are such exclusively in the context of classification problem and in the context of decision functions determination.\r\n",
        "\r\n",
        "\r\n",
        "We can simplify this formula as a classification rule, since the probability $P(\\overline{x})=const$ $\\forall\\ w_{i},\\ i=\\overline{1,M}$:\r\n",
        "$$\r\n",
        "P(w_{i}|\\overline{x}) = P(w_{i})P(\\overline{x}|w_{i}),\r\n",
        "$$\r\n",
        "Include the fact that each image $\\overline{x}$ is represented by vector of attributes $\\overline{x}=[x_{1},x_{2},...,x_{n}]^{T}$:\r\n",
        "$$\r\n",
        "P(w_{i}|x_{1},x_{2},...,x_{n}) = P(w_{i})P(x_{1},x_{2},...,x_{n}|w_{i}),\r\n",
        "$$"
      ]
    },
    {
      "cell_type": "markdown",
      "metadata": {
        "id": "0sfVYtWI2gO4"
      },
      "source": [
        "### Naive assumption\r\n",
        "If we make a naive assumption that all features $x_{1},x_{2},...,x_{n}$ are independent of each other, then the equation of the desired probability will take the form:\r\n",
        "$$\r\n",
        "P(w_{i}|x_{1},x_{2},...,x_{n})=P(w_{i})P(x_{1}|w_{i}),P(x_{2}w_{i}),...,P(x_{n}|w_{i})=\r\n",
        "$$\r\n",
        "$$\r\n",
        "=P(w_{i}){\\displaystyle \\prod_{n} P(x_{n} | w_{i})}\r\n",
        "$$\r\n",
        "Such an assumption is rather naive, since in most cases the features of the image will influence each other, but this approach significantly simplifies the calculation model and in many cases gives fairly accurate results."
      ]
    },
    {
      "cell_type": "code",
      "metadata": {
        "id": "VxjLylToMSMT"
      },
      "source": [
        "from functools import reduce\r\n",
        "from scipy.stats import norm\r\n",
        "\r\n",
        "\r\n",
        "def likelihood_function(x: np.ndarray, mean: np.ndarray, std: np.ndarray) -> float:\r\n",
        "    return reduce(lambda i, j: i * j, norm.pdf(x, mean, std))\r\n",
        "\r\n",
        "\r\n",
        "def prior_probability(total_images: int, cluster: Cluster) -> float:\r\n",
        "    return len(cluster.images) / total_images\r\n",
        "\r\n",
        "\r\n",
        "def posterior_probability(x: np.ndarray, clusters: List[Cluster], cluster: Cluster) -> float:\r\n",
        "    total_images = sum(map(lambda x: len(x.images), clusters))\r\n",
        "\r\n",
        "    mean = np.array(cluster.images).mean(axis=0)\r\n",
        "    std = np.array(cluster.images).std(axis=0)\r\n",
        "\r\n",
        "    return likelihood_function(x, mean, std) * prior_probability(total_images, cluster)\r\n"
      ],
      "execution_count": 2,
      "outputs": []
    },
    {
      "cell_type": "markdown",
      "metadata": {
        "id": "uipNbT6m-lnQ"
      },
      "source": [
        "### Arithmetic underflow\r\n",
        "In practice, multiplying sufficiently small probabilities gives an even smaller number that can be perceived by a computer as 0. This problem is also known as arithmetic underflow. Such situations can affect the classification result.\r\n",
        "\r\n",
        "To exclude such cases, we need to use the logarithmic function:\r\n",
        "$$\r\n",
        "P(w_{i}|x_{1},x_{2},...,x_{n})=ln(P(w_{i})\\prod\\limits_{n}P(x_{n}|w_{i}))\r\n",
        "$$\r\n",
        "\r\n",
        "\r\n",
        "> *This function is monotonically increasing, so we can apply it.*\r\n",
        "\r\n",
        "\r\n",
        "\r\n",
        "By the properties of the logarithmic function, the logarithm of multiplication  is equal to the sum of the logarithms:\r\n",
        "\r\n",
        "$$\r\n",
        "ln(a*b)=ln(a)+ln(b)\r\n",
        "$$\r\n",
        "\r\n",
        "then:\r\n",
        "\r\n",
        "$$\r\n",
        "P(w_{i}|x_{1},x_{2},...,x_{n})=ln(P(w_{i}))+\\sum\\limits_{n}ln(P(x_{n}|w_{i}))\r\n",
        "$$"
      ]
    },
    {
      "cell_type": "markdown",
      "metadata": {
        "id": "h6mgdZC0E3uM"
      },
      "source": [
        "## Bayesian classification rule\r\n",
        "Finally, the decision rule of the naive Bayesian classifier has the following final form:\r\n",
        "\r\n",
        "An image $\\overline{x}$ belongs to class $w_{j}$ if:\r\n",
        "$$\r\n",
        "w_{j}=max[P(w_{i})\\prod\\limits_{n}P(x_{n}|w_{i})],\\ i=\\overline{1,M}\r\n",
        "$$\r\n",
        "or in logarithmic form:\r\n",
        "\r\n",
        "$$\r\n",
        "w_{j}=max[ln(P(w_{i}))+\\sum\\limits_{n}ln(P(x_{n}|w_{i}))],\\ i=\\overline{1,M}\r\n",
        "$$\r\n",
        "\r\n",
        "### Desicive form\r\n",
        "We can also conclude a bayesian classification rule in a form of decisive functions (follow the [topic about decisive functions](https://github.com/sonnnaya/DecisiveAndDividingFunctions/blob/main/DecisiveAndDividingFunctions.ipynb) to get some more info about them and their role in classification process)\r\n",
        "\r\n",
        "Accrodingly to the Bayes Classifier we can determine decisive functions in this way:\r\n",
        "\r\n",
        "$$\r\n",
        "d_{i}(\\overline{x})=P(w_{i})\\prod\\limits_{n}P(x_{n}|w_{i})\r\n",
        "$$\r\n",
        "\r\n",
        "or in logarithmic form:\r\n",
        "\r\n",
        "$$\r\n",
        "d_{i}(\\overline{x})=ln(P(w_{i}))+\\sum\\limits_{n}ln(P(x_{n}|w_{i}))\r\n",
        "$$\r\n",
        "\r\n",
        "So, ther rule is that image $\\overline{x}$ belongs to class $w_{j}$ if:\r\n",
        "\r\n",
        "$$\r\n",
        "d_{j}(\\overline{x})=max(d_{1}(\\overline{x}),d_{2}(\\overline{x}),...d_{i}(\\overline{x})...,d_{M}(\\overline{x})),\\ i=\\overline{1,M}\r\n",
        "$$"
      ]
    },
    {
      "cell_type": "code",
      "metadata": {
        "id": "_-tCw7NEMb2T"
      },
      "source": [
        "def classify(image: np.ndarray, clusters: List[Cluster]):\r\n",
        "    probabilities = [np.log(10 ** 30 * posterior_probability(image, clusters, cluster)) for cluster in clusters]\r\n",
        "    maximum = max(probabilities)\r\n",
        "    index = probabilities.index(maximum)\r\n",
        "    clusters[index].add(image)"
      ],
      "execution_count": 3,
      "outputs": []
    },
    {
      "cell_type": "markdown",
      "metadata": {
        "id": "oEMAfIduMkSX"
      },
      "source": [
        "## Testing\r\n"
      ]
    },
    {
      "cell_type": "code",
      "metadata": {
        "colab": {
          "resources": {
            "http://localhost:8080/nbextensions/google.colab/files.js": {
              "data": "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",
              "ok": true,
              "headers": [
                [
                  "content-type",
                  "application/javascript"
                ]
              ],
              "status": 200,
              "status_text": ""
            }
          },
          "base_uri": "https://localhost:8080/",
          "height": 73
        },
        "id": "wMO5BbFaMxTV",
        "outputId": "19971a66-9221-4c10-d2fc-f70bda585f04"
      },
      "source": [
        "from google.colab import files \r\n",
        "\r\n",
        "  \r\n",
        "uploaded = files.upload()"
      ],
      "execution_count": 4,
      "outputs": [
        {
          "output_type": "display_data",
          "data": {
            "text/html": [
              "\n",
              "     <input type=\"file\" id=\"files-4d9874d6-c941-4668-bdec-395f46f8809c\" name=\"files[]\" multiple disabled\n",
              "        style=\"border:none\" />\n",
              "     <output id=\"result-4d9874d6-c941-4668-bdec-395f46f8809c\">\n",
              "      Upload widget is only available when the cell has been executed in the\n",
              "      current browser session. Please rerun this cell to enable.\n",
              "      </output>\n",
              "      <script src=\"/nbextensions/google.colab/files.js\"></script> "
            ],
            "text/plain": [
              "<IPython.core.display.HTML object>"
            ]
          },
          "metadata": {
            "tags": []
          }
        },
        {
          "output_type": "stream",
          "text": [
            "Saving test_data.csv to test_data.csv\n"
          ],
          "name": "stdout"
        }
      ]
    },
    {
      "cell_type": "code",
      "metadata": {
        "id": "xADsmAIHM2TJ"
      },
      "source": [
        "np.random.seed(0)\r\n",
        "clusters = [Cluster([np.random.normal(5, 1.9, size=2) for x in range(10)]),\r\n",
        "            Cluster([np.random.normal(4, 1.7, size=2) + 10 for y in range(8)]),\r\n",
        "            Cluster([np.random.normal(6, 1.6, size=2) - 10 for z in range(12)])]\r\n",
        "\r\n",
        "test_images = np.genfromtxt('test_data.csv', delimiter=',')"
      ],
      "execution_count": 5,
      "outputs": []
    },
    {
      "cell_type": "code",
      "metadata": {
        "colab": {
          "base_uri": "https://localhost:8080/"
        },
        "id": "pcg9bbs8M5rY",
        "outputId": "93a2d756-8da3-4db5-c127-ae2e28b5885a"
      },
      "source": [
        "for each in test_images:\r\n",
        "    classify(each, clusters)\r\n",
        "\r\n",
        "for i, each in enumerate(clusters):\r\n",
        "    print(f'Class {i + 1}: {[x.tolist() for x in each.images]}')"
      ],
      "execution_count": 6,
      "outputs": [
        {
          "output_type": "stream",
          "text": [
            "Class 1: [[8.351699457338562, 5.760298695897724], [6.859602169800905, 9.25769707848277], [8.548360181284938, 3.1431720282348192], [6.805167993298619, 4.712421304234374], [4.80388418159224, 5.780137153682907], [5.2736827852056685, 7.763119663229652], [6.445971677779287, 5.231182531336374], [5.8433401422163085, 5.633981222011107], [7.8387502389994514, 4.610199298844979], [5.5948286331367125, 3.377218095326723], [1.0, 8.0], [4.0, 3.0], [10.0, -2.0]]\n",
            "Class 2: [[9.659917313082065, 15.111151612248612], [15.46954153806116, 12.738319465309049], [17.85858286077893, 11.5275783531821], [14.07778947941246, 13.681787454956083], [16.60572466440938, 16.497909908830486], [14.263410623684758, 14.642876283323695], [12.490764229028809, 10.632646004019325], [13.408549346145541, 14.265793247476765], [15.0, 10.0], [20.0, 20.0], [10.0, 20.0]]\n",
            "Class 3: [[-2.0315349108356466, -2.076192241944942], [-4.619722907852724, -4.483684400920537], [-5.677684744107348, -6.272028699486361], [-6.73003230500002, -0.8787593676291365], [-4.815443490802646, -4.7009188825778985], [-6.004472576079882, -2.7560154306689437], [-6.582236556092722, -4.34038444834235], [-5.432746497909881, -3.3809560034251804], [-4.817288220110197, -5.889011494595859], [-4.045091565341848, -3.3146690071513314], [-3.8935724441869315, -3.51604496361635], [-5.014915349889542, -4.580385865579421], [-2.0, 0.0], [-10.0, -5.0], [-5.0, 5.0]]\n"
          ],
          "name": "stdout"
        }
      ]
    },
    {
      "cell_type": "markdown",
      "metadata": {
        "id": "XX-It1aOQkOA"
      },
      "source": [
        "## Visualization\r\n"
      ]
    },
    {
      "cell_type": "code",
      "metadata": {
        "colab": {
          "base_uri": "https://localhost:8080/",
          "height": 265
        },
        "id": "BTv0Jn6VQ5Ru",
        "outputId": "f7672d44-a7ef-42ab-c046-64a383743038"
      },
      "source": [
        "import matplotlib.pyplot as plt\r\n",
        "\r\n",
        "\r\n",
        "image_clusters = [cluster.images for cluster in clusters]\r\n",
        "\r\n",
        "\r\n",
        "x_es = [[image[0] for image in images] for images in image_clusters]\r\n",
        "y_es = [[image[1] for image in images] for images in image_clusters]\r\n",
        "\r\n",
        "names = [' z' + str(i + 1) for i in range(len(image_clusters))]\r\n",
        "\r\n",
        "for i in range(len(x_es)):\r\n",
        "    plt.scatter(x_es[i], y_es[i])\r\n",
        "\r\n",
        "for i, txt in enumerate(names):\r\n",
        "    for j in range(len(x_es[i])):\r\n",
        "        plt.annotate(txt, (x_es[i][j], y_es[i][j]))\r\n",
        "\r\n",
        "test_x = [image[0] for image in test_images]\r\n",
        "test_y = [image[1] for image in test_images]\r\n",
        "\r\n",
        "for i in range(len(test_x)):\r\n",
        "    plt.scatter(test_x[i], test_y[i], c=\"r\")\r\n",
        "\r\n",
        "plt.show()\r\n"
      ],
      "execution_count": 7,
      "outputs": [
        {
          "output_type": "display_data",
          "data": {
            "image/png": "[encoded data removed]",
            "text/plain": [
              "<Figure size 432x288 with 1 Axes>"
            ]
          },
          "metadata": {
            "tags": [],
            "needs_background": "light"
          }
        }
      ]
    }
  ]
}